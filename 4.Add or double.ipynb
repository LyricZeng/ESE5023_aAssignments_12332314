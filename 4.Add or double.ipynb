{
 "cells": [
  {
   "cell_type": "code",
   "execution_count": 5,
   "id": "8b5d5c59",
   "metadata": {},
   "outputs": [
    {
     "name": "stdout",
     "output_type": "stream",
     "text": [
      "5\n"
     ]
    }
   ],
   "source": [
    "#4.Add or double\n",
    "import random\n",
    "def Least_moves(x):  \n",
    "   if x == 1:  \n",
    "       return 0  \n",
    "   elif x % 2 == 0:  \n",
    "       return 1 + Least_moves(x // 2)  \n",
    "   else:  \n",
    "       return 1 + Least_moves((x - 1) // 2)\n",
    "x = random.randint(0, 100)  \n",
    "print(Least_moves(x))  "
   ]
  }
 ],
 "metadata": {
  "kernelspec": {
   "display_name": "Python 3 (ipykernel)",
   "language": "python",
   "name": "python3"
  },
  "language_info": {
   "codemirror_mode": {
    "name": "ipython",
    "version": 3
   },
   "file_extension": ".py",
   "mimetype": "text/x-python",
   "name": "python",
   "nbconvert_exporter": "python",
   "pygments_lexer": "ipython3",
   "version": "3.11.4"
  }
 },
 "nbformat": 4,
 "nbformat_minor": 5
}

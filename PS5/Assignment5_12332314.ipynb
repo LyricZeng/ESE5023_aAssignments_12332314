{
 "cells": [
  {
   "cell_type": "markdown",
   "id": "74fef56c",
   "metadata": {},
   "source": [
    "Assignment 5 (due on 12/20)\n",
    "\n",
    "Student：曾连荣（12332314），Gtihub：LyricZeng\n",
    "\n",
    "批改人：赵淑慧\n",
    "\n",
    "得分：32/40\n",
    "\n",
    "Bonus：15/15"
   ]
  },
  {
   "cell_type": "markdown",
   "id": "02329448",
   "metadata": {},
   "source": [
    "1.1 12/15 第一张图缺图例，第二张图缺少坐标轴标签；347是1986年的N1，因此t应从1986开始，导致所获数据都前移了一年\n",
    "\n",
    "1.2 17/20 图缺少坐标轴标签；数据也都前移了一年\n",
    "\n",
    "1.3 3/5 同样有数据时间不匹配问题；根据论文的Fig2观察数据的时间范围应为1986~2004\n",
    "\n",
    "Bonus 15/15"
   ]
  }
 ],
 "metadata": {
  "kernelspec": {
   "display_name": "Python 3 (ipykernel)",
   "language": "python",
   "name": "python3"
  },
  "language_info": {
   "codemirror_mode": {
    "name": "ipython",
    "version": 3
   },
   "file_extension": ".py",
   "mimetype": "text/x-python",
   "name": "python",
   "nbconvert_exporter": "python",
   "pygments_lexer": "ipython3",
   "version": "3.11.4"
  }
 },
 "nbformat": 4,
 "nbformat_minor": 5
}

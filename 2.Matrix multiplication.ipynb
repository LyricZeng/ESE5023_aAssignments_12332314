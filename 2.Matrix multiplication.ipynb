{
 "cells": [
  {
   "cell_type": "code",
   "execution_count": 2,
   "id": "4214ac00",
   "metadata": {},
   "outputs": [
    {
     "name": "stdout",
     "output_type": "stream",
     "text": [
      "[[14 45 27 27 14  1 36 47 49 18]\n",
      " [25  5  8  6  8 40  4 50 37  7]\n",
      " [35 44 10 19 40 31  1 31 18 31]\n",
      " [22 21 35 10 39  9 27 24  6 15]\n",
      " [ 4 19  3 15 22  1 23 20 45 32]]\n",
      "[[40  2 19 16 46]\n",
      " [33 29 20 42 47]\n",
      " [40  8 48 10 44]\n",
      " [48 36 13 43  6]\n",
      " [12 14 16 13 32]\n",
      " [13 33 44  8 15]\n",
      " [10 25 15 12 46]\n",
      " [28  2 29  8 42]\n",
      " [15 14 50 28 27]\n",
      " [50 37  2 29 45]]\n",
      "[[ 7913  5096  7470  6437 10335]\n",
      " [ 4734  2884  6299  3059  6227]\n",
      " [ 7745  5179  6152  5756  9206]\n",
      " [ 5820  3498  5099  3712  8069]\n",
      " [ 4969  3893  4430  4455  6571]]\n"
     ]
    }
   ],
   "source": [
    "#2.Matrix multiplication\n",
    "2.1\n",
    "import numpy as np\n",
    "import random\n",
    "M1=np.array([random.randint(0, 50)for _ in range(50)]).reshape(5,10)\n",
    "M2=np.array([random.randint(0, 50)for _ in range(50)]).reshape(10,5)\n",
    "print(M1)  \n",
    "print(M2)\n",
    "#2.2 M1 * M2.\n",
    "def Matrix_multip(M1,M2):\n",
    "    list1 = []\n",
    "    res = []\n",
    "    for i in range(0, len(M1[:,0])):\n",
    "        A = M1[i,:]\n",
    "        for j in range(0, len(M2[0,:])):\n",
    "            B = M2[:,j]\n",
    "            B = B.reshape(1,-1)\n",
    "            C = A*B\n",
    "            D = sum(C[0])\n",
    "            list1.append(D)\n",
    "        a = np.asarray(list1).reshape(1,-1)\n",
    "        res.append(a[0])\n",
    "        list1 = []\n",
    "    res = np.asarray(res)\n",
    "    print(res)\n",
    "    return\n",
    "if __name__ == \"__main__\":\n",
    "    res=Matrix_multip(M1, M2)"
   ]
  }
 ],
 "metadata": {
  "kernelspec": {
   "display_name": "Python 3 (ipykernel)",
   "language": "python",
   "name": "python3"
  },
  "language_info": {
   "codemirror_mode": {
    "name": "ipython",
    "version": 3
   },
   "file_extension": ".py",
   "mimetype": "text/x-python",
   "name": "python",
   "nbconvert_exporter": "python",
   "pygments_lexer": "ipython3",
   "version": "3.11.4"
  }
 },
 "nbformat": 4,
 "nbformat_minor": 5
}

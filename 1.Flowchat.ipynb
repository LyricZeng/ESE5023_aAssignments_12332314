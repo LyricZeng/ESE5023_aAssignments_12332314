{
 "cells": [
  {
   "cell_type": "code",
   "execution_count": 1,
   "id": "f0e535db",
   "metadata": {},
   "outputs": [
    {
     "name": "stdout",
     "output_type": "stream",
     "text": [
      "56\n",
      "59\n",
      "43\n",
      "please determine the size of a and c \n"
     ]
    }
   ],
   "source": [
    "#1.Flowchat\n",
    "import random\n",
    "a= round(random.random()*100)\n",
    "b= round(random.random()*100)\n",
    "c= round(random.random()*100)\n",
    "print(a)\n",
    "print(b)\n",
    "print(c)\n",
    "if(a>b and b>c):\n",
    "    print(\"a,b,c\")\n",
    "elif( a>b and b<=c and a>c):\n",
    "    print(\"a,c,b\")\n",
    "elif(a>b and b<=c and a <= c):\n",
    "        print(\"c,a,b\")   \n",
    "elif(a<=b and b>c):\n",
    "    print(\"please determine the size of a and c \")\n",
    "elif(a <= b and b <= c):\n",
    "    print(\"c,b,a\")"
   ]
  }
 ],
 "metadata": {
  "kernelspec": {
   "display_name": "Python 3 (ipykernel)",
   "language": "python",
   "name": "python3"
  },
  "language_info": {
   "codemirror_mode": {
    "name": "ipython",
    "version": 3
   },
   "file_extension": ".py",
   "mimetype": "text/x-python",
   "name": "python",
   "nbconvert_exporter": "python",
   "pygments_lexer": "ipython3",
   "version": "3.11.4"
  }
 },
 "nbformat": 4,
 "nbformat_minor": 5
}
